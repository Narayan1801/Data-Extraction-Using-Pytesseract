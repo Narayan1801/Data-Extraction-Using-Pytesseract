{
 "cells": [
  {
   "cell_type": "code",
   "execution_count": 1,
   "metadata": {},
   "outputs": [
    {
     "name": "stdout",
     "output_type": "stream",
     "text": [
      "Requirement already satisfied: opencv-python in c:\\users\\cmahe\\anaconda3\\envs\\downgrade\\lib\\site-packages (4.5.5.62)\n",
      "Requirement already satisfied: numpy>=1.14.5 in c:\\users\\cmahe\\anaconda3\\envs\\downgrade\\lib\\site-packages (from opencv-python) (1.20.3)\n"
     ]
    },
    {
     "name": "stderr",
     "output_type": "stream",
     "text": [
      "WARNING: Ignoring invalid distribution -ymupdf (c:\\users\\cmahe\\anaconda3\\envs\\downgrade\\lib\\site-packages)\n",
      "WARNING: Ignoring invalid distribution -ymupdf (c:\\users\\cmahe\\anaconda3\\envs\\downgrade\\lib\\site-packages)\n",
      "WARNING: Ignoring invalid distribution -ymupdf (c:\\users\\cmahe\\anaconda3\\envs\\downgrade\\lib\\site-packages)\n",
      "WARNING: Ignoring invalid distribution -ymupdf (c:\\users\\cmahe\\anaconda3\\envs\\downgrade\\lib\\site-packages)\n",
      "WARNING: Ignoring invalid distribution -ymupdf (c:\\users\\cmahe\\anaconda3\\envs\\downgrade\\lib\\site-packages)\n",
      "WARNING: Ignoring invalid distribution -ymupdf (c:\\users\\cmahe\\anaconda3\\envs\\downgrade\\lib\\site-packages)\n"
     ]
    }
   ],
   "source": [
    "!pip install opencv-python"
   ]
  },
  {
   "cell_type": "code",
   "execution_count": 2,
   "metadata": {},
   "outputs": [
    {
     "name": "stdout",
     "output_type": "stream",
     "text": [
      "Requirement already satisfied: pytesseract in c:\\users\\cmahe\\anaconda3\\envs\\downgrade\\lib\\site-packages (0.3.8)\n",
      "Requirement already satisfied: Pillow in c:\\users\\cmahe\\anaconda3\\envs\\downgrade\\lib\\site-packages (from pytesseract) (8.4.0)\n"
     ]
    },
    {
     "name": "stderr",
     "output_type": "stream",
     "text": [
      "WARNING: Ignoring invalid distribution -ymupdf (c:\\users\\cmahe\\anaconda3\\envs\\downgrade\\lib\\site-packages)\n",
      "WARNING: Ignoring invalid distribution -ymupdf (c:\\users\\cmahe\\anaconda3\\envs\\downgrade\\lib\\site-packages)\n",
      "WARNING: Ignoring invalid distribution -ymupdf (c:\\users\\cmahe\\anaconda3\\envs\\downgrade\\lib\\site-packages)\n",
      "WARNING: Ignoring invalid distribution -ymupdf (c:\\users\\cmahe\\anaconda3\\envs\\downgrade\\lib\\site-packages)\n",
      "WARNING: Ignoring invalid distribution -ymupdf (c:\\users\\cmahe\\anaconda3\\envs\\downgrade\\lib\\site-packages)\n",
      "WARNING: Ignoring invalid distribution -ymupdf (c:\\users\\cmahe\\anaconda3\\envs\\downgrade\\lib\\site-packages)\n"
     ]
    }
   ],
   "source": [
    "!pip install pytesseract"
   ]
  },
  {
   "cell_type": "code",
   "execution_count": 3,
   "metadata": {},
   "outputs": [],
   "source": [
    "import pytesseract\n",
    "pytesseract.pytesseract.tesseract_cmd=r'C:\\Program Files\\Tesseract-OCR\\tesseract.exe'"
   ]
  },
  {
   "cell_type": "code",
   "execution_count": 4,
   "metadata": {},
   "outputs": [],
   "source": [
    "import cv2"
   ]
  },
  {
   "cell_type": "code",
   "execution_count": 7,
   "metadata": {},
   "outputs": [],
   "source": [
    "img=cv2.imread('template1_page0.jpg')\n",
    "cv2.imshow('sample image',img)\n",
    "cv2.waitKey(0)\n",
    "cv2.destroyAllWindows()"
   ]
  },
  {
   "cell_type": "code",
   "execution_count": 8,
   "metadata": {},
   "outputs": [
    {
     "name": "stdout",
     "output_type": "stream",
     "text": [
      "Nations Reliable Lending, LLC\n",
      "Uniform Residential Loan Application\n",
      "\n",
      "TS a aan oy get wh Ltrs so Sess conan Oe i pee CODON\n",
      "trviann CoBaron ee\n",
      "\n",
      "i TYPE OF NORTGAGE AND Tena OF LOAN 1\n",
      "Woraeqs LIVA(XlGowertom Clot iont— [Aprey Coe Nonbr Tote Cie br\n",
      "dontedtor Eleva Clusoxrast on 0087\n",
      "ose See\n",
      "\n",
      "—— Tae Rae Wo oan | Amora Fao Rae CTO pe)\n",
      "Sia7en00 250 | sen Type Coo Carat por\n",
      "\n",
      "TL PROPERTY NFORNATION AND PURPOSE OF LOAN J\n",
      "‘Saja Papers Acro hes Sy Hae 8 2P) Re\n",
      "1050 stable Ck Tampa. F392 Coun: sero :\n",
      "gar Deere of St Peery each espn fess) era\n",
      "\n",
      "Purpose oftoan TE Purchase Torsion CT Oar ena Prony wb\n",
      "Ci petnance El ceraneton Permanent (Pray) Secondary Clinvestnent\n",
      "Rendonce Resort\n",
      "\n",
      "en is ref consist cnsbvcon permanent\n",
      "\n",
      "Yectathanted fone Gan jamal nrg [Prem tt |) ottoman |o )\n",
      "is : : : :\n",
      "\n",
      "en i re isaac oan\n",
      "\n",
      "Frotene [owed Can ano nga [Pups ctRenance [Omak npmenans (Irate me\n",
      "? : on\n",
      "\n",
      "Tea a wT ia i bal =\n",
      "\n",
      "org a, agen ane on eats roe\n",
      "\n",
      "Saas cm Pym Sonor Oi Ie Saas SG al) (ste\n",
      "\n",
      "chectghovnge\n",
      "\n",
      "i Borrower TLBORAOWER WFORMATION Cooma\n",
      "‘avoners Nome ncde ae appeal o-Barowe’ Name (nce or . apleabe)\n",
      "ergn Jae laqueine Jane\n",
      "Saga Sees mo [SMES Saafaan oe eee [owe en SSE\n",
      "s137076797 cortuioo0 | 16 | ox0.76.2967 extzee\n",
      "\n",
      "(Bhhtwsee lomone ace sgn vo a Coron Ens Tamme pama wos vac er ay AT\n",
      "\n",
      "‘set was)\" roo ‘Se msonet) |polgee,\n",
      "\n",
      "Csepaias\n",
      "\n",
      "resent Ades ses ciy Se, 2) C} Own CX Rant Wa Yn | Pose Adress set ai, Sas 2) CJOw CR) Rant No Yo\n",
      "9130 Tudor OF Apt 205| 20M | 9190 Tudor Apt\n",
      "‘Tampn.FL361\n",
      "\n",
      "Samoa, 36\n",
      "iiStng Aare. irl tom Prose Aaaoee Maing rene. fret ton Present ros\n",
      "{990 Tudor Or Ape 206 9130 Tudor Or Apt 205\n",
      "\n",
      "Tama FL Sama #26\n",
      "\n",
      "{retsing st presen dress foros thn wo yeas, compet the Poiowing\n",
      "\n",
      "Former sess ero ty tai, 2°) CTOwn C] Rant No. Ya. [Fomor Ais Gee By, dais 2) Tom TReat We Yk\n",
      "\n",
      "[ Borrower TRFORAWATION ‘CeBorower 1\n",
      "‘ae & Adios ofEmploye’ [-] SefEmpoyd [Yr nous po. [Name & Areas of Eloy (SafEmployed | Vs on bs pb\n",
      "Sram | vom\n",
      "Morgan & Mergan Emer |paaborough County Schoo! Pe amons\n",
      "ee ~~\n",
      "‘oatoTrType af uaness  Busass Pha (alee cis) | Postoni/Type a Busess Buns Prone aoe code)\n",
      "\n",
      "‘case Manages 13.2050 Teacher 32724000\n",
      "‘employed ren poston fries than two years or eurrenty employed in more than ene positon. complete the folowing\n",
      "\n",
      "Jae ant ote pein\n",
      "Feddtse emer wo) Pape tats Fanta Farm 1083705068\n",
      "106 Pape eat 04201 amps?\n",
      "\n",
      "\n"
     ]
    }
   ],
   "source": [
    "text = pytesseract.image_to_string(img)\n",
    "print(text)"
   ]
  },
  {
   "cell_type": "code",
   "execution_count": null,
   "metadata": {},
   "outputs": [],
   "source": [
    "import re"
   ]
  },
  {
   "cell_type": "code",
   "execution_count": null,
   "metadata": {},
   "outputs": [],
   "source": [
    "start = text.find(\"Applied\") + len(\"Applied\")\n",
    "end = text.find(\"Housing\")\n",
    "substring = text[start:end]\n",
    "print(substring)"
   ]
  },
  {
   "cell_type": "code",
   "execution_count": null,
   "metadata": {},
   "outputs": [],
   "source": []
  }
 ],
 "metadata": {
  "kernelspec": {
   "display_name": "Python 3 (ipykernel)",
   "language": "python",
   "name": "python3"
  },
  "language_info": {
   "codemirror_mode": {
    "name": "ipython",
    "version": 3
   },
   "file_extension": ".py",
   "mimetype": "text/x-python",
   "name": "python",
   "nbconvert_exporter": "python",
   "pygments_lexer": "ipython3",
   "version": "3.7.11"
  }
 },
 "nbformat": 4,
 "nbformat_minor": 4
}
